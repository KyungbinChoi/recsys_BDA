{
 "cells": [
  {
   "cell_type": "markdown",
   "metadata": {},
   "source": [
    "## 필수과제 1-2\n",
    "* 실제 데이터셋을 통해 베이지안 기반의 제품 추천 코드 구현\n",
    "* 동일 상품에 대해 조건부 확률 추천과과 베이지안 추천의 결과를 비교 & why?\n",
    "    * 만약 12월의 데이터만 활용하면 둘 다 P(B|A)를 구하는 것이기에 결론적으로 같은 값이 도출된다.\n",
    "    * 단, 상황을 아래와 같이 setitng 해보자.\n",
    "        * 12월의 거래 이력을 바탕으로 추천을 하는 상황에서\n",
    "        * 조건부 확률 기반은 12월의 이력을 바탕으로 계산하고\n",
    "        * 베이지안 업데이트 기반은 11월의 이력을 prior 로 설정하고 evidence 를 12월 의 이력으로 설정해 posterior 를 update 하는 방식으로 계산하면 차이가 발생한다."
   ]
  },
  {
   "cell_type": "code",
   "execution_count": 12,
   "metadata": {},
   "outputs": [],
   "source": [
    "import pandas as pd\n",
    "pd.options.display.float_format = '{:.3f}'.format\n",
    "import numpy as np\n",
    "from itertools import combinations\n",
    "from collections import Counter\n"
   ]
  },
  {
   "cell_type": "code",
   "execution_count": 2,
   "metadata": {},
   "outputs": [
    {
     "name": "stdout",
     "output_type": "stream",
     "text": [
      "<class 'pandas.core.frame.DataFrame'>\n",
      "RangeIndex: 3533286 entries, 0 to 3533285\n",
      "Data columns (total 9 columns):\n",
      " #   Column         Dtype  \n",
      "---  ------         -----  \n",
      " 0   event_time     object \n",
      " 1   event_type     object \n",
      " 2   product_id     int64  \n",
      " 3   category_id    int64  \n",
      " 4   category_code  object \n",
      " 5   brand          object \n",
      " 6   price          float64\n",
      " 7   user_id        int64  \n",
      " 8   user_session   object \n",
      "dtypes: float64(1), int64(3), object(5)\n",
      "memory usage: 242.6+ MB\n"
     ]
    }
   ],
   "source": [
    "df = pd.read_csv('../dataset/2019-Dec.csv')\n",
    "df.info()"
   ]
  },
  {
   "cell_type": "code",
   "execution_count": 3,
   "metadata": {},
   "outputs": [],
   "source": [
    "purchase_events = df.loc[df['event_type']=='purchase', ['user_id','product_id']].drop_duplicates()\n",
    "\n",
    "# 동시 구매이기 때문에 1-user & 1-item 구매 건은 제외\n",
    "user_item_cnt = purchase_events.groupby('user_id')['product_id'].count()\n",
    "idx_ = list(user_item_cnt[user_item_cnt==1].index)\n",
    "multi_purchases = purchase_events.loc[~purchase_events['user_id'].isin(idx_)]\n",
    "user_products = multi_purchases.groupby(['user_id'])['product_id'].apply(list)"
   ]
  },
  {
   "cell_type": "code",
   "execution_count": 4,
   "metadata": {},
   "outputs": [
    {
     "data": {
      "text/plain": [
       "user_id\n",
       "12055855                 [5769907, 5803082, 5651702, 5885811]\n",
       "15400971                          [5692888, 5694176, 5889691]\n",
       "25392526                          [5700037, 5605922, 5565812]\n",
       "28129653    [5565820, 5565822, 5697541, 5725886, 5804464, ...\n",
       "31647175                                   [5895422, 5810673]\n",
       "Name: product_id, dtype: object"
      ]
     },
     "execution_count": 4,
     "metadata": {},
     "output_type": "execute_result"
    }
   ],
   "source": [
    "user_products.head()"
   ]
  },
  {
   "cell_type": "code",
   "execution_count": 5,
   "metadata": {},
   "outputs": [],
   "source": [
    "all_combinations = []\n",
    "for l in user_products:\n",
    "    all_combinations +=list(combinations(sorted(l), 2))\n",
    "\n",
    "pair_counts = dict(Counter(all_combinations))"
   ]
  },
  {
   "cell_type": "code",
   "execution_count": 6,
   "metadata": {},
   "outputs": [
    {
     "data": {
      "text/plain": [
       "164"
      ]
     },
     "execution_count": 6,
     "metadata": {},
     "output_type": "execute_result"
    }
   ],
   "source": [
    "pair_counts[(5751383, 5751422)]"
   ]
  },
  {
   "cell_type": "code",
   "execution_count": 7,
   "metadata": {},
   "outputs": [],
   "source": [
    "product_counts = multi_purchases['product_id'].value_counts()"
   ]
  },
  {
   "cell_type": "code",
   "execution_count": 8,
   "metadata": {},
   "outputs": [
    {
     "data": {
      "text/plain": [
       "product_id\n",
       "5809910    1568\n",
       "5854897     763\n",
       "5802432     695\n",
       "5700037     603\n",
       "5809912     603\n",
       "5833330     587\n",
       "5304        536\n",
       "5751422     520\n",
       "5815662     505\n",
       "5751383     408\n",
       "5809911     375\n",
       "5849033     371\n",
       "5792800     368\n",
       "5843836     348\n",
       "5833326     338\n",
       "Name: count, dtype: int64"
      ]
     },
     "execution_count": 8,
     "metadata": {},
     "output_type": "execute_result"
    }
   ],
   "source": [
    "product_counts.head(15)"
   ]
  },
  {
   "cell_type": "code",
   "execution_count": 11,
   "metadata": {},
   "outputs": [
    {
     "data": {
      "text/plain": [
       "product_id\n",
       "5814737    1\n",
       "5789615    1\n",
       "5722991    1\n",
       "5911333    1\n",
       "5876948    1\n",
       "Name: count, dtype: int64"
      ]
     },
     "execution_count": 11,
     "metadata": {},
     "output_type": "execute_result"
    }
   ],
   "source": [
    "product_counts.tail(5)"
   ]
  },
  {
   "cell_type": "code",
   "execution_count": 13,
   "metadata": {},
   "outputs": [
    {
     "data": {
      "text/plain": [
       "204656"
      ]
     },
     "execution_count": 13,
     "metadata": {},
     "output_type": "execute_result"
    }
   ],
   "source": [
    "total_carts = len(multi_purchases)\n",
    "total_carts"
   ]
  },
  {
   "cell_type": "code",
   "execution_count": 14,
   "metadata": {},
   "outputs": [],
   "source": [
    "def bayesian_recommendation(selected_product, products_pairs, products_counts , total_carts, threshold = 0.01, k=5):\n",
    "    recommendation = {}\n",
    "    for (prod1, prod2), count in products_pairs.items():\n",
    "        # selected_product가 포함된 쌍만 처리\n",
    "        if selected_product not in (prod1, prod2):\n",
    "            continue\n",
    "        other_prod = prod2 if prod1 == selected_product else prod1\n",
    "        # P(A|B)\n",
    "        P_A_given_B = count / products_counts[other_prod]\n",
    "        \n",
    "        # P(B)\n",
    "        P_B = products_counts[other_prod] / total_carts\n",
    "        \n",
    "        # P(A)\n",
    "        P_A = products_counts[selected_product] / total_carts \n",
    "        \n",
    "        # P(B|A)\n",
    "        P_B_given_A = (P_A_given_B * P_B) / P_A\n",
    "        \n",
    "        if P_B_given_A >= threshold:\n",
    "            recommendation[other_prod] = P_B_given_A\n",
    "\n",
    "    print('>>>>>> Purchase Item Id : {}'.format(selected_product))\n",
    "\n",
    "    rec_item_list = sorted(recommendation.items(), key = lambda x: x[1], reverse=True)[:k]\n",
    "    print('>>>>>> Recommend Item Ids : {}'.format([l[0] for l in rec_item_list]))\n",
    "    return rec_item_list"
   ]
  },
  {
   "cell_type": "code",
   "execution_count": 21,
   "metadata": {},
   "outputs": [],
   "source": [
    "item_id = 5833326"
   ]
  },
  {
   "cell_type": "code",
   "execution_count": 22,
   "metadata": {},
   "outputs": [
    {
     "name": "stdout",
     "output_type": "stream",
     "text": [
      ">>>>>> Purchase Item Id : 5833326\n",
      ">>>>>> Recommend Item Ids : [5833325, 5833330, 5833335, 5906119, 5906098, 5906122, 5809910, 5877490, 5833323, 5809912]\n"
     ]
    },
    {
     "data": {
      "text/plain": [
       "[(5833325, 0.28402366863905326),\n",
       " (5833330, 0.23076923076923073),\n",
       " (5833335, 0.22485207100591714),\n",
       " (5906119, 0.14201183431952663),\n",
       " (5906098, 0.13905325443786984),\n",
       " (5906122, 0.1242603550295858),\n",
       " (5809910, 0.09171597633136094),\n",
       " (5877490, 0.07100591715976332),\n",
       " (5833323, 0.0650887573964497),\n",
       " (5809912, 0.059171597633136105)]"
      ]
     },
     "execution_count": 22,
     "metadata": {},
     "output_type": "execute_result"
    }
   ],
   "source": [
    "bayesian_recommendation(item_id, pair_counts, product_counts, total_carts,k=10)"
   ]
  },
  {
   "cell_type": "code",
   "execution_count": 18,
   "metadata": {},
   "outputs": [],
   "source": [
    "# 조건부확률 기반 추천\n",
    "data = []\n",
    "\n",
    "for (prod1, prod2), count in pair_counts.items():\n",
    "    #P(prod2|prod1)\n",
    "    if product_counts[prod1]>0:\n",
    "        data.append([prod1, prod2, count / product_counts[prod1]])\n",
    "    if product_counts[prod2]>0:\n",
    "        data.append([prod2, prod1, count / product_counts[prod2]])\n",
    "\n",
    "cond_prob_df =pd.DataFrame(data, columns = ['item_A','recommend_item','Confidence'])\n",
    "\n",
    "def conditional_prob_recommendation(item_id, k = 5):\n",
    "    print('>>>>>> Purchase Item Id : {}'.format(item_id))\n",
    "    rec_item_list = cond_prob_df.loc[cond_prob_df['item_A']==item_id ,:].sort_values(by='Confidence', ascending=False).head(k)\n",
    "    print('>>>>>> Recommend Item Ids : {}'.format(list(rec_item_list['recommend_item'].values)))\n",
    "    return rec_item_list"
   ]
  },
  {
   "cell_type": "code",
   "execution_count": 23,
   "metadata": {},
   "outputs": [
    {
     "name": "stdout",
     "output_type": "stream",
     "text": [
      ">>>>>> Purchase Item Id : 5833326\n",
      ">>>>>> Recommend Item Ids : [5833325, 5833330, 5833335, 5906119, 5906098, 5906122, 5809910, 5877490, 5833323, 5802432]\n"
     ]
    },
    {
     "data": {
      "text/html": [
       "<div>\n",
       "<style scoped>\n",
       "    .dataframe tbody tr th:only-of-type {\n",
       "        vertical-align: middle;\n",
       "    }\n",
       "\n",
       "    .dataframe tbody tr th {\n",
       "        vertical-align: top;\n",
       "    }\n",
       "\n",
       "    .dataframe thead th {\n",
       "        text-align: right;\n",
       "    }\n",
       "</style>\n",
       "<table border=\"1\" class=\"dataframe\">\n",
       "  <thead>\n",
       "    <tr style=\"text-align: right;\">\n",
       "      <th></th>\n",
       "      <th>item_A</th>\n",
       "      <th>recommend_item</th>\n",
       "      <th>Confidence</th>\n",
       "    </tr>\n",
       "  </thead>\n",
       "  <tbody>\n",
       "    <tr>\n",
       "      <th>68679</th>\n",
       "      <td>5833326</td>\n",
       "      <td>5833325</td>\n",
       "      <td>0.284</td>\n",
       "    </tr>\n",
       "    <tr>\n",
       "      <th>68700</th>\n",
       "      <td>5833326</td>\n",
       "      <td>5833330</td>\n",
       "      <td>0.231</td>\n",
       "    </tr>\n",
       "    <tr>\n",
       "      <th>68702</th>\n",
       "      <td>5833326</td>\n",
       "      <td>5833335</td>\n",
       "      <td>0.225</td>\n",
       "    </tr>\n",
       "    <tr>\n",
       "      <th>51164</th>\n",
       "      <td>5833326</td>\n",
       "      <td>5906119</td>\n",
       "      <td>0.142</td>\n",
       "    </tr>\n",
       "    <tr>\n",
       "      <th>68726</th>\n",
       "      <td>5833326</td>\n",
       "      <td>5906098</td>\n",
       "      <td>0.139</td>\n",
       "    </tr>\n",
       "    <tr>\n",
       "      <th>145430</th>\n",
       "      <td>5833326</td>\n",
       "      <td>5906122</td>\n",
       "      <td>0.124</td>\n",
       "    </tr>\n",
       "    <tr>\n",
       "      <th>4335</th>\n",
       "      <td>5833326</td>\n",
       "      <td>5809910</td>\n",
       "      <td>0.092</td>\n",
       "    </tr>\n",
       "    <tr>\n",
       "      <th>68712</th>\n",
       "      <td>5833326</td>\n",
       "      <td>5877490</td>\n",
       "      <td>0.071</td>\n",
       "    </tr>\n",
       "    <tr>\n",
       "      <th>4587</th>\n",
       "      <td>5833326</td>\n",
       "      <td>5833323</td>\n",
       "      <td>0.065</td>\n",
       "    </tr>\n",
       "    <tr>\n",
       "      <th>802565</th>\n",
       "      <td>5833326</td>\n",
       "      <td>5802432</td>\n",
       "      <td>0.059</td>\n",
       "    </tr>\n",
       "  </tbody>\n",
       "</table>\n",
       "</div>"
      ],
      "text/plain": [
       "         item_A  recommend_item  Confidence\n",
       "68679   5833326         5833325       0.284\n",
       "68700   5833326         5833330       0.231\n",
       "68702   5833326         5833335       0.225\n",
       "51164   5833326         5906119       0.142\n",
       "68726   5833326         5906098       0.139\n",
       "145430  5833326         5906122       0.124\n",
       "4335    5833326         5809910       0.092\n",
       "68712   5833326         5877490       0.071\n",
       "4587    5833326         5833323       0.065\n",
       "802565  5833326         5802432       0.059"
      ]
     },
     "execution_count": 23,
     "metadata": {},
     "output_type": "execute_result"
    }
   ],
   "source": [
    "conditional_prob_recommendation(item_id, k=10)"
   ]
  },
  {
   "cell_type": "markdown",
   "metadata": {},
   "source": [
    "----"
   ]
  },
  {
   "cell_type": "code",
   "execution_count": 30,
   "metadata": {},
   "outputs": [
    {
     "name": "stdout",
     "output_type": "stream",
     "text": [
      "<class 'pandas.core.frame.DataFrame'>\n",
      "RangeIndex: 4635837 entries, 0 to 4635836\n",
      "Data columns (total 9 columns):\n",
      " #   Column         Dtype  \n",
      "---  ------         -----  \n",
      " 0   event_time     object \n",
      " 1   event_type     object \n",
      " 2   product_id     int64  \n",
      " 3   category_id    int64  \n",
      " 4   category_code  object \n",
      " 5   brand          object \n",
      " 6   price          float64\n",
      " 7   user_id        int64  \n",
      " 8   user_session   object \n",
      "dtypes: float64(1), int64(3), object(5)\n",
      "memory usage: 318.3+ MB\n"
     ]
    }
   ],
   "source": [
    "df2 = pd.read_csv('../dataset/2019-Nov.csv')\n",
    "df2.info()"
   ]
  },
  {
   "cell_type": "code",
   "execution_count": 31,
   "metadata": {},
   "outputs": [],
   "source": [
    "purchase_events = df2.loc[df2['event_type']=='purchase', ['user_id','product_id']].drop_duplicates()\n",
    "\n",
    "# 동시 구매이기 때문에 1-user & 1-item 구매 건은 제외\n",
    "user_item_cnt = purchase_events.groupby('user_id')['product_id'].count()\n",
    "idx_ = list(user_item_cnt[user_item_cnt==1].index)\n",
    "multi_purchases = purchase_events.loc[~purchase_events['user_id'].isin(idx_)]\n",
    "user_products = multi_purchases.groupby(['user_id'])['product_id'].apply(list)\n",
    "all_combinations = []\n",
    "for l in user_products:\n",
    "    all_combinations +=list(combinations(sorted(l), 2))\n",
    "\n",
    "pair_counts_nov = dict(Counter(all_combinations))\n",
    "product_counts_nov = multi_purchases['product_id'].value_counts()\n",
    "total_carts_nov = len(multi_purchases)"
   ]
  },
  {
   "cell_type": "code",
   "execution_count": 32,
   "metadata": {},
   "outputs": [],
   "source": [
    "def bayesian_update_recommendation(selected_product, products_pairs_pr, products_counts_pr , total_carts_pr, product_counts_ev, total_carts_ev, threshold = 0.01, k=5):\n",
    "    \"\"\" m-1 (1달전) 의 이력을 바탕으로 prior 를 정의하고 최근 1달의 이력을 evidence 로 받아서 posterior 를 구하는 방식\n",
    "\n",
    "    Args:\n",
    "        selected_product : 선택된 item id\n",
    "        products_pairs_pr : prior 에 해당하는 기간의 동시구매 count dict\n",
    "        products_counts_pr : prior에 해당하는 기간의 구매 제품 count\n",
    "        total_carts_pr : prior에 해당하는 기간의 전체 거래 건 수\n",
    "        product_counts_ev : evidence 에 해당하는 기간의 구매 제품 count\n",
    "        total_carts_ev : evidence 에 해당하는 기간의 전체 거래 건 수\n",
    "        threshold (float, optional): threshold Defaults to 0.01.\n",
    "        k (int, optional): # of result Defaults to 5.\n",
    "\n",
    "    Returns:\n",
    "        (list): 추천 item lsit\n",
    "    \"\"\"\n",
    "    recommendation = {}\n",
    "    for (prod1, prod2), count in products_pairs_pr.items():\n",
    "        # selected_product가 포함된 쌍만 처리\n",
    "        if selected_product not in (prod1, prod2):\n",
    "            continue\n",
    "        other_prod = prod2 if prod1 == selected_product else prod1\n",
    "        # P(A|B)\n",
    "        P_A_given_B = count / products_counts_pr[other_prod]\n",
    "        \n",
    "        # P(B)\n",
    "        P_B = products_counts_pr[other_prod] / total_carts_pr\n",
    "        \n",
    "        # P(A)\n",
    "        P_A = product_counts_ev[selected_product] / total_carts_ev \n",
    "        \n",
    "        # P(B|A)\n",
    "        P_B_given_A = (P_A_given_B * P_B) / P_A\n",
    "        \n",
    "        if P_B_given_A >= threshold:\n",
    "            recommendation[other_prod] = P_B_given_A\n",
    "\n",
    "    print('>>>>>> Purchase Item Id : {}'.format(selected_product))\n",
    "\n",
    "    rec_item_list = sorted(recommendation.items(), key = lambda x: x[1], reverse=True)[:k]\n",
    "    print('>>>>>> Recommend Item Ids : {}'.format([l[0] for l in rec_item_list]))\n",
    "    return rec_item_list"
   ]
  },
  {
   "cell_type": "code",
   "execution_count": 33,
   "metadata": {},
   "outputs": [],
   "source": [
    "item_id = 5833326"
   ]
  },
  {
   "cell_type": "code",
   "execution_count": 36,
   "metadata": {},
   "outputs": [
    {
     "name": "stdout",
     "output_type": "stream",
     "text": [
      ">>>>>> Purchase Item Id : 5833326\n",
      ">>>>>> Recommend Item Ids : [5833325, 5833330, 5833335, 5906119, 5906098, 5906122, 5809910, 5877490, 5833323, 5802432]\n"
     ]
    },
    {
     "data": {
      "text/html": [
       "<div>\n",
       "<style scoped>\n",
       "    .dataframe tbody tr th:only-of-type {\n",
       "        vertical-align: middle;\n",
       "    }\n",
       "\n",
       "    .dataframe tbody tr th {\n",
       "        vertical-align: top;\n",
       "    }\n",
       "\n",
       "    .dataframe thead th {\n",
       "        text-align: right;\n",
       "    }\n",
       "</style>\n",
       "<table border=\"1\" class=\"dataframe\">\n",
       "  <thead>\n",
       "    <tr style=\"text-align: right;\">\n",
       "      <th></th>\n",
       "      <th>item_A</th>\n",
       "      <th>recommend_item</th>\n",
       "      <th>Confidence</th>\n",
       "    </tr>\n",
       "  </thead>\n",
       "  <tbody>\n",
       "    <tr>\n",
       "      <th>68679</th>\n",
       "      <td>5833326</td>\n",
       "      <td>5833325</td>\n",
       "      <td>0.284</td>\n",
       "    </tr>\n",
       "    <tr>\n",
       "      <th>68700</th>\n",
       "      <td>5833326</td>\n",
       "      <td>5833330</td>\n",
       "      <td>0.231</td>\n",
       "    </tr>\n",
       "    <tr>\n",
       "      <th>68702</th>\n",
       "      <td>5833326</td>\n",
       "      <td>5833335</td>\n",
       "      <td>0.225</td>\n",
       "    </tr>\n",
       "    <tr>\n",
       "      <th>51164</th>\n",
       "      <td>5833326</td>\n",
       "      <td>5906119</td>\n",
       "      <td>0.142</td>\n",
       "    </tr>\n",
       "    <tr>\n",
       "      <th>68726</th>\n",
       "      <td>5833326</td>\n",
       "      <td>5906098</td>\n",
       "      <td>0.139</td>\n",
       "    </tr>\n",
       "    <tr>\n",
       "      <th>145430</th>\n",
       "      <td>5833326</td>\n",
       "      <td>5906122</td>\n",
       "      <td>0.124</td>\n",
       "    </tr>\n",
       "    <tr>\n",
       "      <th>4335</th>\n",
       "      <td>5833326</td>\n",
       "      <td>5809910</td>\n",
       "      <td>0.092</td>\n",
       "    </tr>\n",
       "    <tr>\n",
       "      <th>68712</th>\n",
       "      <td>5833326</td>\n",
       "      <td>5877490</td>\n",
       "      <td>0.071</td>\n",
       "    </tr>\n",
       "    <tr>\n",
       "      <th>4587</th>\n",
       "      <td>5833326</td>\n",
       "      <td>5833323</td>\n",
       "      <td>0.065</td>\n",
       "    </tr>\n",
       "    <tr>\n",
       "      <th>802565</th>\n",
       "      <td>5833326</td>\n",
       "      <td>5802432</td>\n",
       "      <td>0.059</td>\n",
       "    </tr>\n",
       "  </tbody>\n",
       "</table>\n",
       "</div>"
      ],
      "text/plain": [
       "         item_A  recommend_item  Confidence\n",
       "68679   5833326         5833325       0.284\n",
       "68700   5833326         5833330       0.231\n",
       "68702   5833326         5833335       0.225\n",
       "51164   5833326         5906119       0.142\n",
       "68726   5833326         5906098       0.139\n",
       "145430  5833326         5906122       0.124\n",
       "4335    5833326         5809910       0.092\n",
       "68712   5833326         5877490       0.071\n",
       "4587    5833326         5833323       0.065\n",
       "802565  5833326         5802432       0.059"
      ]
     },
     "execution_count": 36,
     "metadata": {},
     "output_type": "execute_result"
    }
   ],
   "source": [
    "conditional_prob_recommendation(item_id, k=10)"
   ]
  },
  {
   "cell_type": "code",
   "execution_count": 37,
   "metadata": {},
   "outputs": [
    {
     "name": "stdout",
     "output_type": "stream",
     "text": [
      ">>>>>> Purchase Item Id : 5833326\n",
      ">>>>>> Recommend Item Ids : [5833325, 5833330, 5833335, 5809910, 5833323, 5833327, 5877490, 5833334, 5862943, 5906098]\n"
     ]
    },
    {
     "data": {
      "text/plain": [
       "[(5833325, 0.4079657596179191),\n",
       " (5833330, 0.3535703250021965),\n",
       " (5833335, 0.16318630384716762),\n",
       " (5809910, 0.14181666881956234),\n",
       " (5833323, 0.12627511607221306),\n",
       " (5833327, 0.12433242197879438),\n",
       " (5877490, 0.10879086923144508),\n",
       " (5833334, 0.08936392829725846),\n",
       " (5862943, 0.08547854011042115),\n",
       " (5906098, 0.08547854011042114)]"
      ]
     },
     "execution_count": 37,
     "metadata": {},
     "output_type": "execute_result"
    }
   ],
   "source": [
    "bayesian_update_recommendation(item_id, pair_counts_nov, product_counts_nov , total_carts_nov, product_counts, total_carts, threshold = 0.01, k=10)"
   ]
  },
  {
   "cell_type": "markdown",
   "metadata": {},
   "source": [
    "* item id : 5833326 일 때\n",
    "    * 조건부 확률 추천 결과\n",
    "        > [5833325, 5833330, 5833335, 5906119, 5906098, 5906122, 5809910, 5877490, 5833323, 5802432]\n",
    "    * 베이지안 업데이트 추천 결과\n",
    "        > [5833325, 5833330, 5833335, 5809910, 5833323, 5833327, 5877490, 5833334, 5862943, 5906098]"
   ]
  },
  {
   "cell_type": "code",
   "execution_count": null,
   "metadata": {},
   "outputs": [],
   "source": []
  }
 ],
 "metadata": {
  "kernelspec": {
   "display_name": "bq_python",
   "language": "python",
   "name": "python3"
  },
  "language_info": {
   "codemirror_mode": {
    "name": "ipython",
    "version": 3
   },
   "file_extension": ".py",
   "mimetype": "text/x-python",
   "name": "python",
   "nbconvert_exporter": "python",
   "pygments_lexer": "ipython3",
   "version": "3.9.16"
  }
 },
 "nbformat": 4,
 "nbformat_minor": 2
}
