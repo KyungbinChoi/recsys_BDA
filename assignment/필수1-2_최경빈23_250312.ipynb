{
 "cells": [
  {
   "cell_type": "markdown",
   "metadata": {},
   "source": [
    "## 필수과제 1.2\n",
    "### 요일 지수에 따른 시각화와 인사이트 정리\n",
    "* 데이터 내 요일별 전환율에 대한 차이 검정 진행 (ANOVA or Kruskal-Wallis test)\n",
    "    * 정규성 검정 결과 요일별 전환율은 정규성 가정을 만족하지 못하기 때문에 비모수 검정 진행\n",
    "    * 검정 결과 cart -> purhcase, view -> purchase 에는 요일별 유의미한 차이가 있음\n",
    "        * 카트에 추가하는 행동보다 구매를 진행하는 행동에 요일 요인이 있는 것으로 볼 수 있음 \n",
    "* 차이가 있는 경우 어느 요일이 더 전환율이 증가하는지?\n",
    "    * 상대적으로 수요일, 목요일의 전환율이 다른 요일에 비해 큰 것으로 확인"
   ]
  },
  {
   "cell_type": "code",
   "execution_count": 2,
   "metadata": {},
   "outputs": [],
   "source": [
    "import pandas as pd\n",
    "import numpy as np\n",
    "import matplotlib.pyplot as plt\n",
    "import seaborn as sns\n",
    "sns.set_style('whitegrid')"
   ]
  },
  {
   "cell_type": "code",
   "execution_count": 3,
   "metadata": {},
   "outputs": [
    {
     "data": {
      "text/html": [
       "<div>\n",
       "<style scoped>\n",
       "    .dataframe tbody tr th:only-of-type {\n",
       "        vertical-align: middle;\n",
       "    }\n",
       "\n",
       "    .dataframe tbody tr th {\n",
       "        vertical-align: top;\n",
       "    }\n",
       "\n",
       "    .dataframe thead th {\n",
       "        text-align: right;\n",
       "    }\n",
       "</style>\n",
       "<table border=\"1\" class=\"dataframe\">\n",
       "  <thead>\n",
       "    <tr style=\"text-align: right;\">\n",
       "      <th>event_type</th>\n",
       "      <th>cart</th>\n",
       "      <th>purchase</th>\n",
       "      <th>remove_from_cart</th>\n",
       "      <th>view</th>\n",
       "      <th>view_to_cart_ratio</th>\n",
       "      <th>cart_to_purchase_ratio</th>\n",
       "      <th>view_to_purchase_ratio</th>\n",
       "    </tr>\n",
       "    <tr>\n",
       "      <th>event_date</th>\n",
       "      <th></th>\n",
       "      <th></th>\n",
       "      <th></th>\n",
       "      <th></th>\n",
       "      <th></th>\n",
       "      <th></th>\n",
       "      <th></th>\n",
       "    </tr>\n",
       "  </thead>\n",
       "  <tbody>\n",
       "    <tr>\n",
       "      <th>2019-10-01</th>\n",
       "      <td>7676</td>\n",
       "      <td>1001</td>\n",
       "      <td>2562</td>\n",
       "      <td>18392</td>\n",
       "      <td>41.74</td>\n",
       "      <td>13.04</td>\n",
       "      <td>5.44</td>\n",
       "    </tr>\n",
       "    <tr>\n",
       "      <th>2019-10-02</th>\n",
       "      <td>22133</td>\n",
       "      <td>1045</td>\n",
       "      <td>2633</td>\n",
       "      <td>32954</td>\n",
       "      <td>67.16</td>\n",
       "      <td>4.72</td>\n",
       "      <td>3.17</td>\n",
       "    </tr>\n",
       "    <tr>\n",
       "      <th>2019-10-03</th>\n",
       "      <td>4804</td>\n",
       "      <td>1048</td>\n",
       "      <td>2522</td>\n",
       "      <td>15468</td>\n",
       "      <td>31.06</td>\n",
       "      <td>21.82</td>\n",
       "      <td>6.78</td>\n",
       "    </tr>\n",
       "    <tr>\n",
       "      <th>2019-10-04</th>\n",
       "      <td>3891</td>\n",
       "      <td>892</td>\n",
       "      <td>2265</td>\n",
       "      <td>13932</td>\n",
       "      <td>27.93</td>\n",
       "      <td>22.92</td>\n",
       "      <td>6.40</td>\n",
       "    </tr>\n",
       "    <tr>\n",
       "      <th>2019-10-05</th>\n",
       "      <td>4617</td>\n",
       "      <td>708</td>\n",
       "      <td>1935</td>\n",
       "      <td>14320</td>\n",
       "      <td>32.24</td>\n",
       "      <td>15.33</td>\n",
       "      <td>4.94</td>\n",
       "    </tr>\n",
       "  </tbody>\n",
       "</table>\n",
       "</div>"
      ],
      "text/plain": [
       "event_type   cart  purchase  remove_from_cart   view  view_to_cart_ratio   \n",
       "event_date                                                                 \n",
       "2019-10-01   7676      1001              2562  18392               41.74  \\\n",
       "2019-10-02  22133      1045              2633  32954               67.16   \n",
       "2019-10-03   4804      1048              2522  15468               31.06   \n",
       "2019-10-04   3891       892              2265  13932               27.93   \n",
       "2019-10-05   4617       708              1935  14320               32.24   \n",
       "\n",
       "event_type  cart_to_purchase_ratio  view_to_purchase_ratio  \n",
       "event_date                                                  \n",
       "2019-10-01                   13.04                    5.44  \n",
       "2019-10-02                    4.72                    3.17  \n",
       "2019-10-03                   21.82                    6.78  \n",
       "2019-10-04                   22.92                    6.40  \n",
       "2019-10-05                   15.33                    4.94  "
      ]
     },
     "execution_count": 3,
     "metadata": {},
     "output_type": "execute_result"
    }
   ],
   "source": [
    "daily_funnel_df = pd.read_pickle('../dataset/total_event_agg.pkl')\n",
    "daily_funnel_df.head()"
   ]
  },
  {
   "cell_type": "code",
   "execution_count": 4,
   "metadata": {},
   "outputs": [
    {
     "name": "stdout",
     "output_type": "stream",
     "text": [
      "<class 'pandas.core.frame.DataFrame'>\n",
      "Index: 92 entries, 2019-10-01 to 2019-12-31\n",
      "Data columns (total 7 columns):\n",
      " #   Column                  Non-Null Count  Dtype  \n",
      "---  ------                  --------------  -----  \n",
      " 0   cart                    92 non-null     int64  \n",
      " 1   purchase                92 non-null     int64  \n",
      " 2   remove_from_cart        92 non-null     int64  \n",
      " 3   view                    92 non-null     int64  \n",
      " 4   view_to_cart_ratio      92 non-null     float64\n",
      " 5   cart_to_purchase_ratio  92 non-null     float64\n",
      " 6   view_to_purchase_ratio  92 non-null     float64\n",
      "dtypes: float64(3), int64(4)\n",
      "memory usage: 5.8+ KB\n"
     ]
    }
   ],
   "source": [
    "daily_funnel_df.info()"
   ]
  },
  {
   "cell_type": "code",
   "execution_count": 10,
   "metadata": {},
   "outputs": [
    {
     "data": {
      "text/html": [
       "<div>\n",
       "<style scoped>\n",
       "    .dataframe tbody tr th:only-of-type {\n",
       "        vertical-align: middle;\n",
       "    }\n",
       "\n",
       "    .dataframe tbody tr th {\n",
       "        vertical-align: top;\n",
       "    }\n",
       "\n",
       "    .dataframe thead th {\n",
       "        text-align: right;\n",
       "    }\n",
       "</style>\n",
       "<table border=\"1\" class=\"dataframe\">\n",
       "  <thead>\n",
       "    <tr style=\"text-align: right;\">\n",
       "      <th>event_type</th>\n",
       "      <th>event_date</th>\n",
       "      <th>cart</th>\n",
       "      <th>purchase</th>\n",
       "      <th>remove_from_cart</th>\n",
       "      <th>view</th>\n",
       "      <th>view_to_cart_ratio</th>\n",
       "      <th>cart_to_purchase_ratio</th>\n",
       "      <th>view_to_purchase_ratio</th>\n",
       "    </tr>\n",
       "  </thead>\n",
       "  <tbody>\n",
       "    <tr>\n",
       "      <th>0</th>\n",
       "      <td>2019-10-01</td>\n",
       "      <td>7676</td>\n",
       "      <td>1001</td>\n",
       "      <td>2562</td>\n",
       "      <td>18392</td>\n",
       "      <td>41.74</td>\n",
       "      <td>13.04</td>\n",
       "      <td>5.44</td>\n",
       "    </tr>\n",
       "    <tr>\n",
       "      <th>1</th>\n",
       "      <td>2019-10-02</td>\n",
       "      <td>22133</td>\n",
       "      <td>1045</td>\n",
       "      <td>2633</td>\n",
       "      <td>32954</td>\n",
       "      <td>67.16</td>\n",
       "      <td>4.72</td>\n",
       "      <td>3.17</td>\n",
       "    </tr>\n",
       "    <tr>\n",
       "      <th>2</th>\n",
       "      <td>2019-10-03</td>\n",
       "      <td>4804</td>\n",
       "      <td>1048</td>\n",
       "      <td>2522</td>\n",
       "      <td>15468</td>\n",
       "      <td>31.06</td>\n",
       "      <td>21.82</td>\n",
       "      <td>6.78</td>\n",
       "    </tr>\n",
       "    <tr>\n",
       "      <th>3</th>\n",
       "      <td>2019-10-04</td>\n",
       "      <td>3891</td>\n",
       "      <td>892</td>\n",
       "      <td>2265</td>\n",
       "      <td>13932</td>\n",
       "      <td>27.93</td>\n",
       "      <td>22.92</td>\n",
       "      <td>6.40</td>\n",
       "    </tr>\n",
       "    <tr>\n",
       "      <th>4</th>\n",
       "      <td>2019-10-05</td>\n",
       "      <td>4617</td>\n",
       "      <td>708</td>\n",
       "      <td>1935</td>\n",
       "      <td>14320</td>\n",
       "      <td>32.24</td>\n",
       "      <td>15.33</td>\n",
       "      <td>4.94</td>\n",
       "    </tr>\n",
       "  </tbody>\n",
       "</table>\n",
       "</div>"
      ],
      "text/plain": [
       "event_type event_date   cart  purchase  remove_from_cart   view   \n",
       "0          2019-10-01   7676      1001              2562  18392  \\\n",
       "1          2019-10-02  22133      1045              2633  32954   \n",
       "2          2019-10-03   4804      1048              2522  15468   \n",
       "3          2019-10-04   3891       892              2265  13932   \n",
       "4          2019-10-05   4617       708              1935  14320   \n",
       "\n",
       "event_type  view_to_cart_ratio  cart_to_purchase_ratio  view_to_purchase_ratio  \n",
       "0                        41.74                   13.04                    5.44  \n",
       "1                        67.16                    4.72                    3.17  \n",
       "2                        31.06                   21.82                    6.78  \n",
       "3                        27.93                   22.92                    6.40  \n",
       "4                        32.24                   15.33                    4.94  "
      ]
     },
     "execution_count": 10,
     "metadata": {},
     "output_type": "execute_result"
    }
   ],
   "source": [
    "daily_funnel_df = daily_funnel_df.reset_index()\n",
    "daily_funnel_df['event_date'] = pd.to_datetime(daily_funnel_df['event_date'])\n",
    "daily_funnel_df.head()"
   ]
  },
  {
   "cell_type": "code",
   "execution_count": 11,
   "metadata": {},
   "outputs": [
    {
     "data": {
      "text/html": [
       "<div>\n",
       "<style scoped>\n",
       "    .dataframe tbody tr th:only-of-type {\n",
       "        vertical-align: middle;\n",
       "    }\n",
       "\n",
       "    .dataframe tbody tr th {\n",
       "        vertical-align: top;\n",
       "    }\n",
       "\n",
       "    .dataframe thead th {\n",
       "        text-align: right;\n",
       "    }\n",
       "</style>\n",
       "<table border=\"1\" class=\"dataframe\">\n",
       "  <thead>\n",
       "    <tr style=\"text-align: right;\">\n",
       "      <th>event_type</th>\n",
       "      <th>event_date</th>\n",
       "      <th>cart</th>\n",
       "      <th>purchase</th>\n",
       "      <th>remove_from_cart</th>\n",
       "      <th>view</th>\n",
       "      <th>view_to_cart_ratio</th>\n",
       "      <th>cart_to_purchase_ratio</th>\n",
       "      <th>view_to_purchase_ratio</th>\n",
       "      <th>days</th>\n",
       "    </tr>\n",
       "  </thead>\n",
       "  <tbody>\n",
       "    <tr>\n",
       "      <th>0</th>\n",
       "      <td>2019-10-01</td>\n",
       "      <td>7676</td>\n",
       "      <td>1001</td>\n",
       "      <td>2562</td>\n",
       "      <td>18392</td>\n",
       "      <td>41.74</td>\n",
       "      <td>13.04</td>\n",
       "      <td>5.44</td>\n",
       "      <td>1</td>\n",
       "    </tr>\n",
       "    <tr>\n",
       "      <th>1</th>\n",
       "      <td>2019-10-02</td>\n",
       "      <td>22133</td>\n",
       "      <td>1045</td>\n",
       "      <td>2633</td>\n",
       "      <td>32954</td>\n",
       "      <td>67.16</td>\n",
       "      <td>4.72</td>\n",
       "      <td>3.17</td>\n",
       "      <td>2</td>\n",
       "    </tr>\n",
       "    <tr>\n",
       "      <th>2</th>\n",
       "      <td>2019-10-03</td>\n",
       "      <td>4804</td>\n",
       "      <td>1048</td>\n",
       "      <td>2522</td>\n",
       "      <td>15468</td>\n",
       "      <td>31.06</td>\n",
       "      <td>21.82</td>\n",
       "      <td>6.78</td>\n",
       "      <td>3</td>\n",
       "    </tr>\n",
       "    <tr>\n",
       "      <th>3</th>\n",
       "      <td>2019-10-04</td>\n",
       "      <td>3891</td>\n",
       "      <td>892</td>\n",
       "      <td>2265</td>\n",
       "      <td>13932</td>\n",
       "      <td>27.93</td>\n",
       "      <td>22.92</td>\n",
       "      <td>6.40</td>\n",
       "      <td>4</td>\n",
       "    </tr>\n",
       "    <tr>\n",
       "      <th>4</th>\n",
       "      <td>2019-10-05</td>\n",
       "      <td>4617</td>\n",
       "      <td>708</td>\n",
       "      <td>1935</td>\n",
       "      <td>14320</td>\n",
       "      <td>32.24</td>\n",
       "      <td>15.33</td>\n",
       "      <td>4.94</td>\n",
       "      <td>5</td>\n",
       "    </tr>\n",
       "  </tbody>\n",
       "</table>\n",
       "</div>"
      ],
      "text/plain": [
       "event_type event_date   cart  purchase  remove_from_cart   view   \n",
       "0          2019-10-01   7676      1001              2562  18392  \\\n",
       "1          2019-10-02  22133      1045              2633  32954   \n",
       "2          2019-10-03   4804      1048              2522  15468   \n",
       "3          2019-10-04   3891       892              2265  13932   \n",
       "4          2019-10-05   4617       708              1935  14320   \n",
       "\n",
       "event_type  view_to_cart_ratio  cart_to_purchase_ratio   \n",
       "0                        41.74                   13.04  \\\n",
       "1                        67.16                    4.72   \n",
       "2                        31.06                   21.82   \n",
       "3                        27.93                   22.92   \n",
       "4                        32.24                   15.33   \n",
       "\n",
       "event_type  view_to_purchase_ratio  days  \n",
       "0                             5.44     1  \n",
       "1                             3.17     2  \n",
       "2                             6.78     3  \n",
       "3                             6.40     4  \n",
       "4                             4.94     5  "
      ]
     },
     "execution_count": 11,
     "metadata": {},
     "output_type": "execute_result"
    }
   ],
   "source": [
    "# 요일별 분포\n",
    "# 월요일 0, 일요일 6\n",
    "daily_funnel_df['days'] = daily_funnel_df['event_date'].dt.dayofweek\n",
    "daily_funnel_df.head()"
   ]
  },
  {
   "cell_type": "code",
   "execution_count": 15,
   "metadata": {},
   "outputs": [],
   "source": [
    "import scipy.stats as stats"
   ]
  },
  {
   "cell_type": "code",
   "execution_count": 16,
   "metadata": {},
   "outputs": [
    {
     "name": "stdout",
     "output_type": "stream",
     "text": [
      "1: Shapiro-Wilk p-value = 0.0076\n",
      "2: Shapiro-Wilk p-value = 0.0000\n",
      "3: Shapiro-Wilk p-value = 0.1845\n",
      "정규성 만족 >> view_to_cart_ratio\n",
      "4: Shapiro-Wilk p-value = 0.0379\n",
      "5: Shapiro-Wilk p-value = 0.3859\n",
      "정규성 만족 >> view_to_cart_ratio\n",
      "6: Shapiro-Wilk p-value = 0.0000\n",
      "0: Shapiro-Wilk p-value = 0.0001\n"
     ]
    }
   ],
   "source": [
    "for day in daily_funnel_df['days'].unique():\n",
    "    sample = daily_funnel_df[daily_funnel_df['days'] == day]['view_to_cart_ratio']\n",
    "    stat, p = stats.shapiro(sample)\n",
    "    print(f\"{day}: Shapiro-Wilk p-value = {p:.4f}\")\n",
    "    if p >= .05:\n",
    "        print('정규성 만족 >> view_to_cart_ratio')"
   ]
  },
  {
   "cell_type": "code",
   "execution_count": 17,
   "metadata": {},
   "outputs": [
    {
     "name": "stdout",
     "output_type": "stream",
     "text": [
      "1: Shapiro-Wilk p-value = 0.1666\n",
      "정규성 만족 >> cart_to_purchase_ratio\n",
      "2: Shapiro-Wilk p-value = 0.0000\n",
      "3: Shapiro-Wilk p-value = 0.0470\n",
      "4: Shapiro-Wilk p-value = 0.0150\n",
      "5: Shapiro-Wilk p-value = 0.7446\n",
      "정규성 만족 >> cart_to_purchase_ratio\n",
      "6: Shapiro-Wilk p-value = 0.0019\n",
      "0: Shapiro-Wilk p-value = 0.0070\n"
     ]
    }
   ],
   "source": [
    "for day in daily_funnel_df['days'].unique():\n",
    "    sample = daily_funnel_df[daily_funnel_df['days'] == day]['cart_to_purchase_ratio']\n",
    "    stat, p = stats.shapiro(sample)\n",
    "    print(f\"{day}: Shapiro-Wilk p-value = {p:.4f}\")\n",
    "    if p >= .05:\n",
    "        print('정규성 만족 >> cart_to_purchase_ratio')"
   ]
  },
  {
   "cell_type": "code",
   "execution_count": 18,
   "metadata": {},
   "outputs": [
    {
     "name": "stdout",
     "output_type": "stream",
     "text": [
      "1: Shapiro-Wilk p-value = 0.0013\n",
      "2: Shapiro-Wilk p-value = 0.0004\n",
      "3: Shapiro-Wilk p-value = 0.0038\n",
      "4: Shapiro-Wilk p-value = 0.0015\n",
      "5: Shapiro-Wilk p-value = 0.0019\n",
      "6: Shapiro-Wilk p-value = 0.0020\n",
      "0: Shapiro-Wilk p-value = 0.0064\n"
     ]
    }
   ],
   "source": [
    "for day in daily_funnel_df['days'].unique():\n",
    "    sample = daily_funnel_df[daily_funnel_df['days'] == day]['view_to_purchase_ratio']\n",
    "    stat, p = stats.shapiro(sample)\n",
    "    print(f\"{day}: Shapiro-Wilk p-value = {p:.4f}\")\n",
    "    if p >= .05:\n",
    "        print('정규성 만족 >> view_to_purchase_ratio')"
   ]
  },
  {
   "cell_type": "code",
   "execution_count": 20,
   "metadata": {},
   "outputs": [
    {
     "name": "stdout",
     "output_type": "stream",
     "text": [
      "Levene’s Test p-value: 0.9867\n",
      "등분산성이 있음 (p ≥ 0.05)\n"
     ]
    }
   ],
   "source": [
    "stat, p_value = stats.levene(\n",
    "    daily_funnel_df[daily_funnel_df['days'] == 0]['view_to_cart_ratio'],\n",
    "    daily_funnel_df[daily_funnel_df['days'] == 1]['view_to_cart_ratio'],\n",
    "    daily_funnel_df[daily_funnel_df['days'] == 2]['view_to_cart_ratio'],\n",
    "    daily_funnel_df[daily_funnel_df['days'] == 3]['view_to_cart_ratio'],\n",
    "    daily_funnel_df[daily_funnel_df['days'] == 4]['view_to_cart_ratio'],\n",
    "    daily_funnel_df[daily_funnel_df['days'] == 5]['view_to_cart_ratio'],\n",
    "    daily_funnel_df[daily_funnel_df['days'] == 6]['view_to_cart_ratio'],\n",
    ")\n",
    "\n",
    "print(f\"Levene’s Test p-value: {p_value:.4f}\")\n",
    "\n",
    "# 등분산성 해석\n",
    "if p_value < 0.05:\n",
    "    print(\"등분산성이 없음 (p < 0.05)\")\n",
    "else:\n",
    "    print(\"등분산성이 있음 (p ≥ 0.05)\")"
   ]
  },
  {
   "cell_type": "code",
   "execution_count": 21,
   "metadata": {},
   "outputs": [
    {
     "name": "stdout",
     "output_type": "stream",
     "text": [
      "Levene’s Test p-value: 0.9145\n",
      "등분산성이 있음 (p ≥ 0.05)\n"
     ]
    }
   ],
   "source": [
    "stat, p_value = stats.levene(\n",
    "    daily_funnel_df[daily_funnel_df['days'] == 0]['cart_to_purchase_ratio'],\n",
    "    daily_funnel_df[daily_funnel_df['days'] == 1]['cart_to_purchase_ratio'],\n",
    "    daily_funnel_df[daily_funnel_df['days'] == 2]['cart_to_purchase_ratio'],\n",
    "    daily_funnel_df[daily_funnel_df['days'] == 3]['cart_to_purchase_ratio'],\n",
    "    daily_funnel_df[daily_funnel_df['days'] == 4]['cart_to_purchase_ratio'],\n",
    "    daily_funnel_df[daily_funnel_df['days'] == 5]['cart_to_purchase_ratio'],\n",
    "    daily_funnel_df[daily_funnel_df['days'] == 6]['cart_to_purchase_ratio'],\n",
    ")\n",
    "\n",
    "print(f\"Levene’s Test p-value: {p_value:.4f}\")\n",
    "\n",
    "# 등분산성 해석\n",
    "if p_value < 0.05:\n",
    "    print(\"등분산성이 없음 (p < 0.05)\")\n",
    "else:\n",
    "    print(\"등분산성이 있음 (p ≥ 0.05)\")"
   ]
  },
  {
   "cell_type": "code",
   "execution_count": 22,
   "metadata": {},
   "outputs": [
    {
     "name": "stdout",
     "output_type": "stream",
     "text": [
      "Levene’s Test p-value: 0.8194\n",
      "등분산성이 있음 (p ≥ 0.05)\n"
     ]
    }
   ],
   "source": [
    "stat, p_value = stats.levene(\n",
    "    daily_funnel_df[daily_funnel_df['days'] == 0]['view_to_purchase_ratio'],\n",
    "    daily_funnel_df[daily_funnel_df['days'] == 1]['view_to_purchase_ratio'],\n",
    "    daily_funnel_df[daily_funnel_df['days'] == 2]['view_to_purchase_ratio'],\n",
    "    daily_funnel_df[daily_funnel_df['days'] == 3]['view_to_purchase_ratio'],\n",
    "    daily_funnel_df[daily_funnel_df['days'] == 4]['view_to_purchase_ratio'],\n",
    "    daily_funnel_df[daily_funnel_df['days'] == 5]['view_to_purchase_ratio'],\n",
    "    daily_funnel_df[daily_funnel_df['days'] == 6]['view_to_purchase_ratio'],\n",
    ")\n",
    "\n",
    "print(f\"Levene’s Test p-value: {p_value:.4f}\")\n",
    "\n",
    "# 등분산성 해석\n",
    "if p_value < 0.05:\n",
    "    print(\"등분산성이 없음 (p < 0.05)\")\n",
    "else:\n",
    "    print(\"등분산성이 있음 (p ≥ 0.05)\")"
   ]
  },
  {
   "cell_type": "code",
   "execution_count": 24,
   "metadata": {},
   "outputs": [
    {
     "name": "stdout",
     "output_type": "stream",
     "text": [
      "Kruskal-Wallis p-value: 0.8086978623359461\n",
      "비모수 검정 결과 >> 요일별 유의미한 차이가 없음\n"
     ]
    }
   ],
   "source": [
    "# Kruskal-Wallis Test\n",
    "kruskal_result = stats.kruskal(*(daily_funnel_df[daily_funnel_df['days'] == day]['view_to_cart_ratio'] for day in daily_funnel_df['days'].unique()))\n",
    "print(\"Kruskal-Wallis p-value:\", kruskal_result.pvalue)\n",
    "if kruskal_result.pvalue < .05:\n",
    "    print('비모수 검정 결과 >> 요일별 view-cart 전환에 유의미한 차이가 있음')\n",
    "else:\n",
    "    print('비모수 검정 결과 >> 요일별 유의미한 차이가 없음')"
   ]
  },
  {
   "cell_type": "code",
   "execution_count": 25,
   "metadata": {},
   "outputs": [
    {
     "name": "stdout",
     "output_type": "stream",
     "text": [
      "Kruskal-Wallis p-value: 0.005619582740878683\n",
      "비모수 검정 결과 >> 요일별 cart-purchase 전환에 유의미한 차이가 있음\n"
     ]
    }
   ],
   "source": [
    "# Kruskal-Wallis Test\n",
    "kruskal_result = stats.kruskal(*(daily_funnel_df[daily_funnel_df['days'] == day]['cart_to_purchase_ratio'] for day in daily_funnel_df['days'].unique()))\n",
    "print(\"Kruskal-Wallis p-value:\", kruskal_result.pvalue)\n",
    "if kruskal_result.pvalue < .05:\n",
    "    print('비모수 검정 결과 >> 요일별 cart-purchase 전환에 유의미한 차이가 있음')\n",
    "else:\n",
    "    print('비모수 검정 결과 >> 요일별 유의미한 차이가 없음')"
   ]
  },
  {
   "cell_type": "code",
   "execution_count": 26,
   "metadata": {},
   "outputs": [
    {
     "name": "stdout",
     "output_type": "stream",
     "text": [
      "Kruskal-Wallis p-value: 0.004899499186833028\n",
      "비모수 검정 결과 >> 요일별 view-purchase 전환에 유의미한 차이가 있음\n"
     ]
    }
   ],
   "source": [
    "# Kruskal-Wallis Test\n",
    "kruskal_result = stats.kruskal(*(daily_funnel_df[daily_funnel_df['days'] == day]['view_to_purchase_ratio'] for day in daily_funnel_df['days'].unique()))\n",
    "print(\"Kruskal-Wallis p-value:\", kruskal_result.pvalue)\n",
    "if kruskal_result.pvalue < .05:\n",
    "    print('비모수 검정 결과 >> 요일별 view-purchase 전환에 유의미한 차이가 있음')\n",
    "else:\n",
    "    print('비모수 검정 결과 >> 요일별 유의미한 차이가 없음')"
   ]
  },
  {
   "cell_type": "code",
   "execution_count": null,
   "metadata": {},
   "outputs": [
    {
     "data": {
      "text/html": [
       "<div>\n",
       "<style scoped>\n",
       "    .dataframe tbody tr th:only-of-type {\n",
       "        vertical-align: middle;\n",
       "    }\n",
       "\n",
       "    .dataframe tbody tr th {\n",
       "        vertical-align: top;\n",
       "    }\n",
       "\n",
       "    .dataframe thead th {\n",
       "        text-align: right;\n",
       "    }\n",
       "</style>\n",
       "<table border=\"1\" class=\"dataframe\">\n",
       "  <thead>\n",
       "    <tr style=\"text-align: right;\">\n",
       "      <th></th>\n",
       "      <th>count</th>\n",
       "      <th>mean</th>\n",
       "      <th>std</th>\n",
       "      <th>min</th>\n",
       "      <th>25%</th>\n",
       "      <th>50%</th>\n",
       "      <th>75%</th>\n",
       "      <th>max</th>\n",
       "    </tr>\n",
       "    <tr>\n",
       "      <th>days</th>\n",
       "      <th></th>\n",
       "      <th></th>\n",
       "      <th></th>\n",
       "      <th></th>\n",
       "      <th></th>\n",
       "      <th></th>\n",
       "      <th></th>\n",
       "      <th></th>\n",
       "    </tr>\n",
       "  </thead>\n",
       "  <tbody>\n",
       "    <tr>\n",
       "      <th>0</th>\n",
       "      <td>13.0</td>\n",
       "      <td>20.651538</td>\n",
       "      <td>4.546687</td>\n",
       "      <td>8.31</td>\n",
       "      <td>21.0500</td>\n",
       "      <td>21.92</td>\n",
       "      <td>22.2800</td>\n",
       "      <td>25.80</td>\n",
       "    </tr>\n",
       "    <tr>\n",
       "      <th>1</th>\n",
       "      <td>14.0</td>\n",
       "      <td>20.919286</td>\n",
       "      <td>3.951295</td>\n",
       "      <td>13.04</td>\n",
       "      <td>20.3575</td>\n",
       "      <td>21.76</td>\n",
       "      <td>23.0175</td>\n",
       "      <td>26.64</td>\n",
       "    </tr>\n",
       "    <tr>\n",
       "      <th>2</th>\n",
       "      <td>13.0</td>\n",
       "      <td>21.457692</td>\n",
       "      <td>5.222814</td>\n",
       "      <td>4.72</td>\n",
       "      <td>22.0100</td>\n",
       "      <td>22.70</td>\n",
       "      <td>23.1400</td>\n",
       "      <td>25.15</td>\n",
       "    </tr>\n",
       "    <tr>\n",
       "      <th>3</th>\n",
       "      <td>13.0</td>\n",
       "      <td>23.823077</td>\n",
       "      <td>1.694886</td>\n",
       "      <td>21.82</td>\n",
       "      <td>22.2100</td>\n",
       "      <td>24.07</td>\n",
       "      <td>25.3300</td>\n",
       "      <td>26.35</td>\n",
       "    </tr>\n",
       "    <tr>\n",
       "      <th>4</th>\n",
       "      <td>13.0</td>\n",
       "      <td>24.175385</td>\n",
       "      <td>2.899203</td>\n",
       "      <td>20.98</td>\n",
       "      <td>22.2500</td>\n",
       "      <td>23.38</td>\n",
       "      <td>24.9600</td>\n",
       "      <td>30.28</td>\n",
       "    </tr>\n",
       "    <tr>\n",
       "      <th>5</th>\n",
       "      <td>13.0</td>\n",
       "      <td>21.196154</td>\n",
       "      <td>3.336227</td>\n",
       "      <td>15.33</td>\n",
       "      <td>19.8200</td>\n",
       "      <td>21.27</td>\n",
       "      <td>22.2000</td>\n",
       "      <td>27.31</td>\n",
       "    </tr>\n",
       "    <tr>\n",
       "      <th>6</th>\n",
       "      <td>13.0</td>\n",
       "      <td>20.850000</td>\n",
       "      <td>6.349941</td>\n",
       "      <td>4.28</td>\n",
       "      <td>19.8700</td>\n",
       "      <td>20.69</td>\n",
       "      <td>21.9200</td>\n",
       "      <td>34.50</td>\n",
       "    </tr>\n",
       "  </tbody>\n",
       "</table>\n",
       "</div>"
      ],
      "text/plain": [
       "      count       mean       std    min      25%    50%      75%    max\n",
       "days                                                                   \n",
       "0      13.0  20.651538  4.546687   8.31  21.0500  21.92  22.2800  25.80\n",
       "1      14.0  20.919286  3.951295  13.04  20.3575  21.76  23.0175  26.64\n",
       "2      13.0  21.457692  5.222814   4.72  22.0100  22.70  23.1400  25.15\n",
       "3      13.0  23.823077  1.694886  21.82  22.2100  24.07  25.3300  26.35\n",
       "4      13.0  24.175385  2.899203  20.98  22.2500  23.38  24.9600  30.28\n",
       "5      13.0  21.196154  3.336227  15.33  19.8200  21.27  22.2000  27.31\n",
       "6      13.0  20.850000  6.349941   4.28  19.8700  20.69  21.9200  34.50"
      ]
     },
     "metadata": {},
     "output_type": "display_data"
    }
   ],
   "source": [
    "daily_funnel_df.groupby('days')['cart_to_purchase_ratio'].describe()"
   ]
  },
  {
   "cell_type": "code",
   "execution_count": null,
   "metadata": {},
   "outputs": [
    {
     "data": {
      "text/html": [
       "<div>\n",
       "<style scoped>\n",
       "    .dataframe tbody tr th:only-of-type {\n",
       "        vertical-align: middle;\n",
       "    }\n",
       "\n",
       "    .dataframe tbody tr th {\n",
       "        vertical-align: top;\n",
       "    }\n",
       "\n",
       "    .dataframe thead th {\n",
       "        text-align: right;\n",
       "    }\n",
       "</style>\n",
       "<table border=\"1\" class=\"dataframe\">\n",
       "  <thead>\n",
       "    <tr style=\"text-align: right;\">\n",
       "      <th></th>\n",
       "      <th>count</th>\n",
       "      <th>mean</th>\n",
       "      <th>std</th>\n",
       "      <th>min</th>\n",
       "      <th>25%</th>\n",
       "      <th>50%</th>\n",
       "      <th>75%</th>\n",
       "      <th>max</th>\n",
       "    </tr>\n",
       "    <tr>\n",
       "      <th>days</th>\n",
       "      <th></th>\n",
       "      <th></th>\n",
       "      <th></th>\n",
       "      <th></th>\n",
       "      <th></th>\n",
       "      <th></th>\n",
       "      <th></th>\n",
       "      <th></th>\n",
       "    </tr>\n",
       "  </thead>\n",
       "  <tbody>\n",
       "    <tr>\n",
       "      <th>0</th>\n",
       "      <td>13.0</td>\n",
       "      <td>5.654615</td>\n",
       "      <td>1.106252</td>\n",
       "      <td>2.81</td>\n",
       "      <td>5.50</td>\n",
       "      <td>6.07</td>\n",
       "      <td>6.2400</td>\n",
       "      <td>6.82</td>\n",
       "    </tr>\n",
       "    <tr>\n",
       "      <th>1</th>\n",
       "      <td>14.0</td>\n",
       "      <td>5.661429</td>\n",
       "      <td>1.020421</td>\n",
       "      <td>2.56</td>\n",
       "      <td>5.45</td>\n",
       "      <td>5.79</td>\n",
       "      <td>6.2575</td>\n",
       "      <td>6.58</td>\n",
       "    </tr>\n",
       "    <tr>\n",
       "      <th>2</th>\n",
       "      <td>13.0</td>\n",
       "      <td>5.897692</td>\n",
       "      <td>0.911310</td>\n",
       "      <td>3.17</td>\n",
       "      <td>5.80</td>\n",
       "      <td>6.22</td>\n",
       "      <td>6.3200</td>\n",
       "      <td>6.58</td>\n",
       "    </tr>\n",
       "    <tr>\n",
       "      <th>3</th>\n",
       "      <td>13.0</td>\n",
       "      <td>6.773846</td>\n",
       "      <td>1.153954</td>\n",
       "      <td>5.58</td>\n",
       "      <td>6.06</td>\n",
       "      <td>6.30</td>\n",
       "      <td>6.7800</td>\n",
       "      <td>8.94</td>\n",
       "    </tr>\n",
       "    <tr>\n",
       "      <th>4</th>\n",
       "      <td>13.0</td>\n",
       "      <td>6.733846</td>\n",
       "      <td>1.807736</td>\n",
       "      <td>5.06</td>\n",
       "      <td>5.58</td>\n",
       "      <td>5.84</td>\n",
       "      <td>6.4600</td>\n",
       "      <td>10.34</td>\n",
       "    </tr>\n",
       "    <tr>\n",
       "      <th>5</th>\n",
       "      <td>13.0</td>\n",
       "      <td>5.629231</td>\n",
       "      <td>1.266461</td>\n",
       "      <td>4.41</td>\n",
       "      <td>4.94</td>\n",
       "      <td>5.06</td>\n",
       "      <td>5.8300</td>\n",
       "      <td>8.61</td>\n",
       "    </tr>\n",
       "    <tr>\n",
       "      <th>6</th>\n",
       "      <td>13.0</td>\n",
       "      <td>5.593846</td>\n",
       "      <td>1.757230</td>\n",
       "      <td>2.72</td>\n",
       "      <td>5.25</td>\n",
       "      <td>5.44</td>\n",
       "      <td>5.8900</td>\n",
       "      <td>10.62</td>\n",
       "    </tr>\n",
       "  </tbody>\n",
       "</table>\n",
       "</div>"
      ],
      "text/plain": [
       "      count      mean       std   min   25%   50%     75%    max\n",
       "days                                                            \n",
       "0      13.0  5.654615  1.106252  2.81  5.50  6.07  6.2400   6.82\n",
       "1      14.0  5.661429  1.020421  2.56  5.45  5.79  6.2575   6.58\n",
       "2      13.0  5.897692  0.911310  3.17  5.80  6.22  6.3200   6.58\n",
       "3      13.0  6.773846  1.153954  5.58  6.06  6.30  6.7800   8.94\n",
       "4      13.0  6.733846  1.807736  5.06  5.58  5.84  6.4600  10.34\n",
       "5      13.0  5.629231  1.266461  4.41  4.94  5.06  5.8300   8.61\n",
       "6      13.0  5.593846  1.757230  2.72  5.25  5.44  5.8900  10.62"
      ]
     },
     "metadata": {},
     "output_type": "display_data"
    }
   ],
   "source": [
    "daily_funnel_df.groupby('days')['view_to_purchase_ratio'].describe()"
   ]
  },
  {
   "cell_type": "code",
   "execution_count": null,
   "metadata": {},
   "outputs": [
    {
     "name": "stderr",
     "output_type": "stream",
     "text": [
      "No artists with labels found to put in legend.  Note that artists whose label start with an underscore are ignored when legend() is called with no argument.\n"
     ]
    },
    {
     "data": {
      "image/png": "[encoded data removed]",
      "text/plain": [
       "<Figure size 1200x700 with 1 Axes>"
      ]
     },
     "metadata": {},
     "output_type": "display_data"
    }
   ],
   "source": [
    "plt.figure(figsize=(12,7))\n",
    "sns.boxplot(data=daily_funnel_df, x='days', y='cart_to_purchase_ratio')\n",
    "plt.show()"
   ]
  },
  {
   "cell_type": "code",
   "execution_count": 38,
   "metadata": {},
   "outputs": [
    {
     "data": {
      "image/png": "[encoded data removed]",
      "text/plain": [
       "<Figure size 1200x700 with 1 Axes>"
      ]
     },
     "metadata": {},
     "output_type": "display_data"
    }
   ],
   "source": [
    "plt.figure(figsize=(12,7))\n",
    "sns.boxplot(data=daily_funnel_df, x='days', y='view_to_purchase_ratio')\n",
    "plt.show()"
   ]
  },
  {
   "cell_type": "code",
   "execution_count": null,
   "metadata": {},
   "outputs": [],
   "source": []
  }
 ],
 "metadata": {
  "kernelspec": {
   "display_name": "bq_python",
   "language": "python",
   "name": "python3"
  },
  "language_info": {
   "codemirror_mode": {
    "name": "ipython",
    "version": 3
   },
   "file_extension": ".py",
   "mimetype": "text/x-python",
   "name": "python",
   "nbconvert_exporter": "python",
   "pygments_lexer": "ipython3",
   "version": "3.9.16"
  }
 },
 "nbformat": 4,
 "nbformat_minor": 2
}
