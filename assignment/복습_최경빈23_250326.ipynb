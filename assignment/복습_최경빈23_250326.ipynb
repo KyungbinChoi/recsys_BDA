{
 "cells": [
  {
   "cell_type": "markdown",
   "metadata": {},
   "source": [
    "## Item_based 추천 구현\n",
    "* 동시 구매 count \n",
    "* 동시 구매 기반 조건부 확률"
   ]
  },
  {
   "cell_type": "code",
   "execution_count": 87,
   "metadata": {},
   "outputs": [],
   "source": [
    "import pandas as pd\n",
    "from collections import defaultdict\n",
    "\n",
    "# 예제 데이터프레임\n",
    "df_sample = pd.DataFrame({\n",
    "    'user_id': [3, 3, 3, 3, 1, 1, 1, 2, 2, ],\n",
    "    'product_id': [101, 102, 105, 106, 101, 102, 103, 101, 104],\n",
    "    'event_type': ['cart'] * 9\n",
    "})\n",
    "\n",
    "# 'cart' 이벤트만 필터링\n",
    "cart_df = df_sample[df_sample['event_type'] == 'cart']"
   ]
  },
  {
   "cell_type": "code",
   "execution_count": 49,
   "metadata": {},
   "outputs": [],
   "source": [
    "user_products =cart_df.groupby('user_id')['product_id'].apply(list)"
   ]
  },
  {
   "cell_type": "code",
   "execution_count": 50,
   "metadata": {},
   "outputs": [
    {
     "data": {
      "text/plain": [
       "user_id\n",
       "1         [101, 102, 103]\n",
       "2              [101, 104]\n",
       "3    [101, 102, 105, 106]\n",
       "Name: product_id, dtype: object"
      ]
     },
     "execution_count": 50,
     "metadata": {},
     "output_type": "execute_result"
    }
   ],
   "source": [
    "user_products"
   ]
  },
  {
   "cell_type": "code",
   "execution_count": 51,
   "metadata": {},
   "outputs": [],
   "source": [
    "## 동시구매에 대한 카운팅을 해야 한다.\n",
    "## 101,102,103 담았으면 (101,102) (101,103) (102,103)\n",
    "\n",
    "products_pairs = defaultdict(int)\n",
    "\n",
    "for products in user_products:\n",
    "    for i in range(len(products)):\n",
    "        for j in range( i +1 , len(products)):\n",
    "            pair =tuple(sorted([products[i], products[j]]))\n",
    "            products_pairs[pair] +=1"
   ]
  },
  {
   "cell_type": "code",
   "execution_count": 52,
   "metadata": {},
   "outputs": [
    {
     "data": {
      "text/plain": [
       "defaultdict(int,\n",
       "            {(101, 102): 2,\n",
       "             (101, 103): 1,\n",
       "             (102, 103): 1,\n",
       "             (101, 104): 1,\n",
       "             (101, 105): 1,\n",
       "             (101, 106): 1,\n",
       "             (102, 105): 1,\n",
       "             (102, 106): 1,\n",
       "             (105, 106): 1})"
      ]
     },
     "execution_count": 52,
     "metadata": {},
     "output_type": "execute_result"
    }
   ],
   "source": [
    "products_pairs"
   ]
  },
  {
   "cell_type": "code",
   "execution_count": 53,
   "metadata": {},
   "outputs": [
    {
     "data": {
      "text/plain": [
       "{(101, 102): 2,\n",
       " (101, 103): 1,\n",
       " (102, 103): 1,\n",
       " (101, 104): 1,\n",
       " (101, 105): 1,\n",
       " (101, 106): 1,\n",
       " (102, 105): 1,\n",
       " (102, 106): 1,\n",
       " (105, 106): 1}"
      ]
     },
     "execution_count": 53,
     "metadata": {},
     "output_type": "execute_result"
    }
   ],
   "source": [
    "# itertools 를 활용한 조합 선정과 counting (시간 복잡도 면에서 좋음)\n",
    "from itertools import combinations\n",
    "from collections import Counter\n",
    "\n",
    "all_combinations = []\n",
    "for l in user_products:\n",
    "    all_combinations +=list(combinations(sorted(l), 2))\n",
    "\n",
    "pair_counts = dict(Counter(all_combinations))\n",
    "\n",
    "pair_counts"
   ]
  },
  {
   "cell_type": "code",
   "execution_count": 54,
   "metadata": {},
   "outputs": [
    {
     "data": {
      "text/plain": [
       "product_id\n",
       "101    3\n",
       "102    2\n",
       "105    1\n",
       "106    1\n",
       "103    1\n",
       "104    1\n",
       "Name: count, dtype: int64"
      ]
     },
     "execution_count": 54,
     "metadata": {},
     "output_type": "execute_result"
    }
   ],
   "source": [
    "products_counts = cart_df['product_id'].value_counts()\n",
    "products_counts"
   ]
  },
  {
   "cell_type": "code",
   "execution_count": 55,
   "metadata": {},
   "outputs": [],
   "source": [
    "# P(prod2|prod1)\n",
    "# P(prod1|prod2)\n",
    "\n",
    "data = []\n",
    "\n",
    "for (prod1, prod2), count in products_pairs.items():\n",
    "    #P(prod2|prod1)\n",
    "    if products_counts[prod1]>0:\n",
    "        data.append([prod1, prod2, count / products_counts[prod1]])\n",
    "    if products_counts[prod2]>0:\n",
    "        data.append([prod2, prod1, count / products_counts[prod2]])\n",
    "\n",
    "cond_prob_df =pd.DataFrame(data, columns = ['시작','이동','Confidence'])\n",
    "        "
   ]
  },
  {
   "cell_type": "code",
   "execution_count": 56,
   "metadata": {},
   "outputs": [
    {
     "data": {
      "text/html": [
       "<div>\n",
       "<style scoped>\n",
       "    .dataframe tbody tr th:only-of-type {\n",
       "        vertical-align: middle;\n",
       "    }\n",
       "\n",
       "    .dataframe tbody tr th {\n",
       "        vertical-align: top;\n",
       "    }\n",
       "\n",
       "    .dataframe thead th {\n",
       "        text-align: right;\n",
       "    }\n",
       "</style>\n",
       "<table border=\"1\" class=\"dataframe\">\n",
       "  <thead>\n",
       "    <tr style=\"text-align: right;\">\n",
       "      <th></th>\n",
       "      <th>시작</th>\n",
       "      <th>이동</th>\n",
       "      <th>Confidence</th>\n",
       "    </tr>\n",
       "  </thead>\n",
       "  <tbody>\n",
       "    <tr>\n",
       "      <th>0</th>\n",
       "      <td>101</td>\n",
       "      <td>102</td>\n",
       "      <td>0.666667</td>\n",
       "    </tr>\n",
       "    <tr>\n",
       "      <th>10</th>\n",
       "      <td>101</td>\n",
       "      <td>106</td>\n",
       "      <td>0.333333</td>\n",
       "    </tr>\n",
       "    <tr>\n",
       "      <th>6</th>\n",
       "      <td>101</td>\n",
       "      <td>104</td>\n",
       "      <td>0.333333</td>\n",
       "    </tr>\n",
       "    <tr>\n",
       "      <th>8</th>\n",
       "      <td>101</td>\n",
       "      <td>105</td>\n",
       "      <td>0.333333</td>\n",
       "    </tr>\n",
       "    <tr>\n",
       "      <th>2</th>\n",
       "      <td>101</td>\n",
       "      <td>103</td>\n",
       "      <td>0.333333</td>\n",
       "    </tr>\n",
       "    <tr>\n",
       "      <th>4</th>\n",
       "      <td>102</td>\n",
       "      <td>103</td>\n",
       "      <td>0.500000</td>\n",
       "    </tr>\n",
       "    <tr>\n",
       "      <th>1</th>\n",
       "      <td>102</td>\n",
       "      <td>101</td>\n",
       "      <td>1.000000</td>\n",
       "    </tr>\n",
       "    <tr>\n",
       "      <th>12</th>\n",
       "      <td>102</td>\n",
       "      <td>105</td>\n",
       "      <td>0.500000</td>\n",
       "    </tr>\n",
       "    <tr>\n",
       "      <th>14</th>\n",
       "      <td>102</td>\n",
       "      <td>106</td>\n",
       "      <td>0.500000</td>\n",
       "    </tr>\n",
       "    <tr>\n",
       "      <th>5</th>\n",
       "      <td>103</td>\n",
       "      <td>102</td>\n",
       "      <td>1.000000</td>\n",
       "    </tr>\n",
       "    <tr>\n",
       "      <th>3</th>\n",
       "      <td>103</td>\n",
       "      <td>101</td>\n",
       "      <td>1.000000</td>\n",
       "    </tr>\n",
       "    <tr>\n",
       "      <th>7</th>\n",
       "      <td>104</td>\n",
       "      <td>101</td>\n",
       "      <td>1.000000</td>\n",
       "    </tr>\n",
       "    <tr>\n",
       "      <th>16</th>\n",
       "      <td>105</td>\n",
       "      <td>106</td>\n",
       "      <td>1.000000</td>\n",
       "    </tr>\n",
       "    <tr>\n",
       "      <th>9</th>\n",
       "      <td>105</td>\n",
       "      <td>101</td>\n",
       "      <td>1.000000</td>\n",
       "    </tr>\n",
       "    <tr>\n",
       "      <th>13</th>\n",
       "      <td>105</td>\n",
       "      <td>102</td>\n",
       "      <td>1.000000</td>\n",
       "    </tr>\n",
       "    <tr>\n",
       "      <th>11</th>\n",
       "      <td>106</td>\n",
       "      <td>101</td>\n",
       "      <td>1.000000</td>\n",
       "    </tr>\n",
       "    <tr>\n",
       "      <th>15</th>\n",
       "      <td>106</td>\n",
       "      <td>102</td>\n",
       "      <td>1.000000</td>\n",
       "    </tr>\n",
       "    <tr>\n",
       "      <th>17</th>\n",
       "      <td>106</td>\n",
       "      <td>105</td>\n",
       "      <td>1.000000</td>\n",
       "    </tr>\n",
       "  </tbody>\n",
       "</table>\n",
       "</div>"
      ],
      "text/plain": [
       "     시작   이동  Confidence\n",
       "0   101  102    0.666667\n",
       "10  101  106    0.333333\n",
       "6   101  104    0.333333\n",
       "8   101  105    0.333333\n",
       "2   101  103    0.333333\n",
       "4   102  103    0.500000\n",
       "1   102  101    1.000000\n",
       "12  102  105    0.500000\n",
       "14  102  106    0.500000\n",
       "5   103  102    1.000000\n",
       "3   103  101    1.000000\n",
       "7   104  101    1.000000\n",
       "16  105  106    1.000000\n",
       "9   105  101    1.000000\n",
       "13  105  102    1.000000\n",
       "11  106  101    1.000000\n",
       "15  106  102    1.000000\n",
       "17  106  105    1.000000"
      ]
     },
     "execution_count": 56,
     "metadata": {},
     "output_type": "execute_result"
    }
   ],
   "source": [
    "cond_prob_df.sort_values(by='시작')"
   ]
  },
  {
   "cell_type": "markdown",
   "metadata": {},
   "source": [
    "### 베이지안 확률을 통해 추천시스템을 구현하자!\n",
    "-  베이지안 네트워크는 다른 변수들까지 추가해서 추천할 수도 있다.\n",
    "    - 베이지안\n",
    "        - 불확실성에 대한 믿음의 정도\n",
    "        - 사전 확률 (사전지식) + 데이터가 새롭게 들어오면 -> 확률 갱신하게 된다.\n",
    "        \n",
    "     - 추천시스템에서는 어떤 식으로 이해하면 될까?\n",
    "         - 일반적인 빈도 기반\n",
    "             - 101과 102 , 101과 102가 같이 담긴 경우가 20번이네 -> 101는 전체가 40번 담겨있다 -> P(B|A) = 1/2 0.5\n",
    "             - 관측된 카운팅 기반 의존\n",
    "         - 베이지안 방식 추천\n",
    "             - 101과 102가 20번 함께 담겼네 \n",
    "                 - 102가 자주 담기는 제품이다 -> P(102) 높다.\n",
    "                     - 그러면 101 함께 담긴 게 우연일 수도 있겠네.\n",
    "             -> 단순한 빈도 이상의 불확실성에 대한 확률 해석을 추가하는 것\n",
    "      - P(H|D) = P(D|H)* P(H) / P(D)\n",
    "          - H : 사용자가 B를 담을 것이다. 좋아한다 가설의 개념\n",
    "          - D : 실제 관측된 A를 담았다는 것 \n",
    "          - P(H) : 기본적으로 유저가 B를 좋아할 (담을) 기본 확률\n",
    "          - P(D|H) : 가능도(Likelihood) 유저가 B를 좋아한다면 A도 담았을 확률\n",
    "          - P(H|D) : 사후확률(posterior) 유저가 A를 담은 걸 알고 있을 때 B를 좋아할(담을) 확률\n",
    "      \n",
    "      - 추천 시스템의 사후확률은?\n",
    "          - 어떤 제품 B가 추천될 확률을 기존 데이터뿐만이 아니라 -> 제품에 대한 유저의 선호도 등의 정보를 반영해서 업데이트 한다.\n",
    "          \n",
    "--------\n",
    "- 예를 들어서\n",
    "    - 일반 조건부 확률 사용자가 제품 X를 담았을 때 -> 제품 Y도 담을 확률 얼마나 될까?\n",
    "        - P(Y|X) -> count(X,Y) / count(X)]\n",
    "\n",
    "- 베이지안 방식\n",
    "    - P(Y|X) = P(X|Y) P(Y)/ P(X)\n",
    "    - P(Y) Y가 원래 잘 팔리는지에 대한 정보 (사전정보)\n",
    "    - P(X|Y) Y를 담은 사람들이 X도 담았은지? 연관도\n",
    "    - P(Y|X) = 유저가 X를 담은 정보를 알 때 -> Y를 담을 확률 (사후확률)\n",
    "        \n",
    "\n",
    "- P(A|B) = P(AnB) / P(B)\n",
    "- P(B) - 전체 장바구니에 대한 제품 B가 등장할 확률\n",
    "- P(A) - 전체 장바구니에 대한 제품 A가 등장할 확률\n",
    "- 베이지안 확률 P(B|A) "
   ]
  },
  {
   "cell_type": "code",
   "execution_count": 57,
   "metadata": {},
   "outputs": [],
   "source": [
    "# 예제 데이터프레임\n",
    "df_sample = pd.DataFrame({\n",
    "    'user_id': [1, 1, 1, 2, 2, 3, 3, 3, 3],\n",
    "    'product_id': [101, 102, 103, 101, 104, 101, 102, 105, 106],\n",
    "    'event_type': ['cart'] * 9\n",
    "})\n",
    "\n",
    "# 'cart' 이벤트만 필터링\n",
    "cart_df = df_sample[df_sample['event_type'] == 'cart']"
   ]
  },
  {
   "cell_type": "code",
   "execution_count": 59,
   "metadata": {},
   "outputs": [],
   "source": [
    "products_pairs = defaultdict(int)\n",
    "user_products =cart_df.groupby('user_id')['product_id'].apply(list)\n",
    "\n",
    "for products in user_products:\n",
    "    for i in range(len(products)):\n",
    "        for j in range( i +1 , len(products)):\n",
    "            pair =tuple(sorted([products[i], products[j]]))\n",
    "            products_pairs[pair] +=1\n",
    "\n",
    "products_counts = cart_df['product_id'].value_counts()"
   ]
  },
  {
   "cell_type": "code",
   "execution_count": 67,
   "metadata": {},
   "outputs": [
    {
     "data": {
      "text/plain": [
       "3"
      ]
     },
     "execution_count": 67,
     "metadata": {},
     "output_type": "execute_result"
    }
   ],
   "source": [
    "products_counts[101]"
   ]
  },
  {
   "cell_type": "code",
   "execution_count": 60,
   "metadata": {},
   "outputs": [],
   "source": [
    "# 전체 카운팅\n",
    "total_carts= len(cart_df)"
   ]
  },
  {
   "cell_type": "code",
   "execution_count": 74,
   "metadata": {},
   "outputs": [
    {
     "data": {
      "text/plain": [
       "user_id\n",
       "1         [101, 102, 103]\n",
       "2              [101, 104]\n",
       "3    [101, 102, 105, 106]\n",
       "Name: product_id, dtype: object"
      ]
     },
     "execution_count": 74,
     "metadata": {},
     "output_type": "execute_result"
    }
   ],
   "source": [
    "user_products"
   ]
  },
  {
   "cell_type": "code",
   "execution_count": 73,
   "metadata": {},
   "outputs": [
    {
     "data": {
      "text/plain": [
       "defaultdict(int,\n",
       "            {(101, 102): 2,\n",
       "             (101, 103): 1,\n",
       "             (102, 103): 1,\n",
       "             (101, 104): 1,\n",
       "             (101, 105): 1,\n",
       "             (101, 106): 1,\n",
       "             (102, 105): 1,\n",
       "             (102, 106): 1,\n",
       "             (105, 106): 1})"
      ]
     },
     "execution_count": 73,
     "metadata": {},
     "output_type": "execute_result"
    }
   ],
   "source": [
    "products_pairs"
   ]
  },
  {
   "cell_type": "code",
   "execution_count": 81,
   "metadata": {},
   "outputs": [],
   "source": [
    "# 특정 제품 selected, prdoucts pairs, products_counts, total_carts, threshold = ?\n",
    "def bayesian_recommendation(selected_product, products_pairs, products_counts , total_carts, threshold = 0.1):\n",
    "    recommendation = {}\n",
    "    for (prod1, prod2), count in products_pairs.items():\n",
    "       \n",
    "        if prod1 == selected_product or prod2 == selected_product:\n",
    "            other_prod = prod2 if prod1 == selected_product else prod1\n",
    "        \n",
    "        #베이지안에 대한 코드가 필요하다.\n",
    "        P_A_given_B = count / products_counts[other_prod]\n",
    "        \n",
    "        # P(B)\n",
    "        P_B = products_counts[other_prod] / total_carts\n",
    "        \n",
    "        # P(A)\n",
    "        P_A = products_counts[selected_product] / total_carts \n",
    "        \n",
    "        # 베이지안 확률\n",
    "        P_B_given_A = (P_A_given_B * P_B) / P_A\n",
    "        print(P_A_given_B, P_B,P_A,P_B_given_A)\n",
    "        if P_B_given_A >= threshold:\n",
    "            recommendation[other_prod] = P_B_given_A\n",
    "            \n",
    "    return sorted(recommendation.items(), key = lambda x: x[1], reverse=True)"
   ]
  },
  {
   "cell_type": "code",
   "execution_count": 88,
   "metadata": {},
   "outputs": [],
   "source": [
    "# 베이즈 정리 기반 추천 함수\n",
    "def bayesian_recommendation(selected_product, products_pairs, products_counts, total_carts, threshold=0.1):\n",
    "    recommendation = {}\n",
    "    for (prod1, prod2), count in products_pairs.items():\n",
    "        # selected_product가 포함된 쌍만 처리\n",
    "        if selected_product not in (prod1, prod2):\n",
    "            continue\n",
    "        \n",
    "        other_prod = prod2 if prod1 == selected_product else prod1\n",
    "\n",
    "        # P(A|B)\n",
    "        P_A_given_B = count / products_counts[other_prod]\n",
    "\n",
    "        # P(B)\n",
    "        P_B = products_counts[other_prod] / total_carts\n",
    "\n",
    "        # P(A)\n",
    "        P_A = products_counts[selected_product] / total_carts\n",
    "\n",
    "        # P(B|A) = (P(A|B) * P(B)) / P(A)\n",
    "        P_B_given_A = (P_A_given_B * P_B) / P_A\n",
    "\n",
    "        if P_B_given_A >= threshold:\n",
    "            recommendation[other_prod] = P_B_given_A\n",
    "\n",
    "    return sorted(recommendation.items(), key=lambda x: x[1], reverse=True)"
   ]
  },
  {
   "cell_type": "code",
   "execution_count": 86,
   "metadata": {},
   "outputs": [
    {
     "data": {
      "text/plain": [
       "{101: 0.5, 103: 0.5, 105: 0.5, 106: 0.5}"
      ]
     },
     "execution_count": 86,
     "metadata": {},
     "output_type": "execute_result"
    }
   ],
   "source": [
    "selected_product = 102\n",
    "recommendation = {}\n",
    "for (prod1, prod2), count in products_pairs.items():\n",
    "    \n",
    "    if prod1 == selected_product or prod2 == selected_product:\n",
    "        other_prod = prod2 if prod1 == selected_product else prod1\n",
    "    \n",
    "    #베이지안에 대한 코드가 필요하다.\n",
    "    P_A_given_B = count / products_counts[other_prod]\n",
    "    \n",
    "    # P(B)\n",
    "    P_B = products_counts[other_prod] / total_carts\n",
    "    \n",
    "    # P(A)\n",
    "    P_A = products_counts[selected_product] / total_carts \n",
    "    \n",
    "    # 베이지안 확률\n",
    "    P_B_given_A = (P_A_given_B * P_B) / P_A\n",
    "    \n",
    "    recommendation[other_prod] = P_B_given_A\n",
    "\n",
    "recommendation"
   ]
  },
  {
   "cell_type": "code",
   "execution_count": 89,
   "metadata": {},
   "outputs": [],
   "source": [
    "selected_product=102\n",
    "recommend_products=bayesian_recommendation(selected_product, products_pairs, products_counts,total_carts)"
   ]
  },
  {
   "cell_type": "code",
   "execution_count": 64,
   "metadata": {},
   "outputs": [
    {
     "data": {
      "text/plain": [
       "[(102, 0.6666666666666666),\n",
       " (103, 0.3333333333333333),\n",
       " (104, 0.3333333333333333),\n",
       " (105, 0.3333333333333333),\n",
       " (106, 0.3333333333333333)]"
      ]
     },
     "execution_count": 64,
     "metadata": {},
     "output_type": "execute_result"
    }
   ],
   "source": [
    "selected_product=101\n",
    "recommend_products=bayesian_recommendation(selected_product, products_pairs, products_counts,total_carts)\n",
    "recommend_products"
   ]
  },
  {
   "cell_type": "code",
   "execution_count": null,
   "metadata": {},
   "outputs": [],
   "source": []
  }
 ],
 "metadata": {
  "kernelspec": {
   "display_name": "bq_python",
   "language": "python",
   "name": "python3"
  },
  "language_info": {
   "codemirror_mode": {
    "name": "ipython",
    "version": 3
   },
   "file_extension": ".py",
   "mimetype": "text/x-python",
   "name": "python",
   "nbconvert_exporter": "python",
   "pygments_lexer": "ipython3",
   "version": "3.9.16"
  }
 },
 "nbformat": 4,
 "nbformat_minor": 2
}
